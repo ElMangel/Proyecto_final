{
 "cells": [
  {
   "cell_type": "markdown",
   "id": "427ed4fb-2a87-4c28-b3c9-09a473fcd788",
   "metadata": {},
   "source": [
    "# Preguntas de negocio"
   ]
  },
  {
   "cell_type": "code",
   "execution_count": null,
   "id": "fd6c992a-6d3b-479f-bf74-9ff4d39db4f1",
   "metadata": {},
   "outputs": [],
   "source": [
    "Tengo que hacer las preguntas de forma mas especifica, como: \n",
    "    ¿Cuáles son los artículos más vendidos entre noviembre y diciembre?"
   ]
  },
  {
   "cell_type": "markdown",
   "id": "fa6707ea-0f02-4696-8f8d-8921c5c0ac28",
   "metadata": {},
   "source": [
    "### 1. ¿Cuáles son los artículos más vendidos entre noviembre y diciembre?"
   ]
  },
  {
   "cell_type": "code",
   "execution_count": null,
   "id": "9c86c687-9ca0-4f9f-917b-3f0fef4661c0",
   "metadata": {},
   "outputs": [],
   "source": []
  },
  {
   "cell_type": "markdown",
   "id": "beba1428-6b2e-4c8b-aefe-f6847023e1f4",
   "metadata": {},
   "source": [
    "### 2. ¿Cuál es el historial de compras de un cliente específico y cuál es su valor para la empresa?"
   ]
  },
  {
   "cell_type": "code",
   "execution_count": null,
   "id": "74083b81-94de-49a7-b598-05eea96e1345",
   "metadata": {},
   "outputs": [],
   "source": []
  },
  {
   "cell_type": "markdown",
   "id": "1339a7a4-4d1c-4783-860f-65660ca43fe8",
   "metadata": {},
   "source": [
    "### 3. ¿Cómo varía la demanda de productos en diferentes temporadas o períodos del año?"
   ]
  },
  {
   "cell_type": "code",
   "execution_count": null,
   "id": "1b0000d3-ef7f-4166-b4f6-94be906a5ffa",
   "metadata": {},
   "outputs": [],
   "source": []
  },
  {
   "cell_type": "markdown",
   "id": "40de98bc-cf72-4dab-b744-851bdcec7c13",
   "metadata": {},
   "source": [
    "### 4. ¿Cuál es el comportamiento de compra de los clientes en función de su ubicación geográfica?"
   ]
  },
  {
   "cell_type": "code",
   "execution_count": null,
   "id": "a0ee4285-aa2e-4ac7-a93f-2d0a70c33d5d",
   "metadata": {},
   "outputs": [],
   "source": []
  },
  {
   "cell_type": "markdown",
   "id": "7b8780df-863c-47fc-a34a-c5fb93fb50e2",
   "metadata": {},
   "source": [
    "### 5. ¿Cuál es el rendimiento de los proveedores en términos de entregas a tiempo y calidad de productos?"
   ]
  },
  {
   "cell_type": "code",
   "execution_count": null,
   "id": "90f7eef5-591e-4195-bda9-4d0ce117bc12",
   "metadata": {},
   "outputs": [],
   "source": []
  }
 ],
 "metadata": {
  "kernelspec": {
   "display_name": "Python 3 (ipykernel)",
   "language": "python",
   "name": "python3"
  },
  "language_info": {
   "codemirror_mode": {
    "name": "ipython",
    "version": 3
   },
   "file_extension": ".py",
   "mimetype": "text/x-python",
   "name": "python",
   "nbconvert_exporter": "python",
   "pygments_lexer": "ipython3",
   "version": "3.11.5"
  }
 },
 "nbformat": 4,
 "nbformat_minor": 5
}
